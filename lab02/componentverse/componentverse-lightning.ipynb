{
 "cells": [
  {
   "cell_type": "markdown",
   "metadata": {},
   "source": [
    "# ComponentVerse\n",
    "\n",
    "# Salesforce Lightning\n",
    "\n",
    "Entre no catálogo de componentes Lightning do Salesforce: [Catálogo](https://developer.salesforce.com/docs/component-library/overview/components)\n",
    "\n",
    "Na categoria `COMPONENTS/Lightning` à esquerda selecione o componente `slider`.\n",
    "\n",
    "Na aba `basic.html` configure o componente para criar um slider que faça o registro de uma temperatura usando o seguinte código HTML:\n",
    "\n",
    "~~~HTML\n",
    "<template>\n",
    "    <lightning-slider label=\"Temperatura\" min=-90 max=57 value=30></lightning-slider>\n",
    "</template>\n",
    "~~~\n",
    "\n",
    "O código fica contido dentro do elemento `<template></template>`.\n",
    "\n",
    "Nesse código, o elemento `<lightning-slider>` instancia um componente `lightning-slider`.\n",
    "\n",
    "Em seguida são definidos os valores para propriedades do componente:\n",
    "* `label` - rótulo do slider\n",
    "* `min` - valor mínimo\n",
    "* `max` - valor máximo\n",
    "* `value` - valor padrão inicial\n",
    "\n",
    "Clique no botão `Run` para executar o código.\n",
    "\n",
    "## Tarefa\n",
    "\n",
    "Adapte o slider para registrar a idade de uma pessoa e cole o código na célula abaixo:"
   ]
  },
  {
   "cell_type": "markdown",
   "metadata": {},
   "source": []
  },
  {
   "cell_type": "markdown",
   "metadata": {},
   "source": [
    "# Agregando Componentes\n",
    "\n",
    "Componentes podem ser agregados colocando-se elementos dentro de elementos. Encontre o componente `tabset` e configure com o seguinte código:\n",
    "\n",
    "~~~html\n",
    "<template>\n",
    "    <lightning-tabset>\n",
    "        <lightning-tab label=\"Despesas\">\n",
    "            Despesas efetuadas.\n",
    "        </lightning-tab>\n",
    "        <lightning-tab label=\"A Pagar\" title=\"Contas a Pagar\">\n",
    "            Lista de contas a pagar.\n",
    "        </lightning-tab>\n",
    "        <lightning-tab label=\"Observações\">\n",
    "            Observações.\n",
    "        </lightning-tab>\n",
    "    </lightning-tabset>\n",
    "</template>\n",
    "~~~\n",
    "\n",
    "## Tarefa\n",
    "\n",
    "Configure estas abas para um outro tipo de aplicação que você proponha e cole o código na célula abaixo:"
   ]
  },
  {
   "cell_type": "markdown",
   "metadata": {},
   "source": []
  },
  {
   "cell_type": "markdown",
   "metadata": {},
   "source": [
    "## Tarefa\n",
    "\n",
    "Seguindo a mesma lógica da tarefa anterior, configure o componente do tipo `input` para que receba uma entrada de uma cor, usando a cor inicial padrão vermelha. Cole o código na célula abaixo:"
   ]
  },
  {
   "cell_type": "markdown",
   "metadata": {},
   "source": []
  },
  {
   "cell_type": "markdown",
   "metadata": {},
   "source": [
    "## Tarefa\n",
    "\n",
    "Escolha um componente lightning (diferente dos exemplos anteriores) e o configure. Descreva abaixo o propósito do seu componente configurado. Coloque na célula a seguir a descrição e o código:"
   ]
  },
  {
   "cell_type": "code",
   "execution_count": null,
   "metadata": {},
   "outputs": [],
   "source": []
  }
 ],
 "metadata": {
  "kernelspec": {
   "display_name": "Python 3",
   "language": "python",
   "name": "python3"
  },
  "language_info": {
   "codemirror_mode": {
    "name": "ipython",
    "version": 3
   },
   "file_extension": ".py",
   "mimetype": "text/x-python",
   "name": "python",
   "nbconvert_exporter": "python",
   "pygments_lexer": "ipython3",
   "version": "3.7.3"
  }
 },
 "nbformat": 4,
 "nbformat_minor": 2
}
