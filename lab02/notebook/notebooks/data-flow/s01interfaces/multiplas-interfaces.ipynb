{
 "cells": [
  {
   "cell_type": "markdown",
   "metadata": {},
   "source": [
    "# Múltiplas Interfaces\n",
    "\n",
    "Interfaces podem ser decompostas em interfaces menores que expressam subconjuntos de funcionalidades. Por exemplo, retomando a classe `DataSetComponent` do Zombie Health abaixo. Podemos pensar em duas interfaces para implementá-la: `IDataSetProperties` que concentra os métodos que modificam as propriedades da classe; `ITableProducer` que concentra funcionalidades de qualquer objeto capaz de produzir dados tabulares (independentemente da origem desses dados).\n",
    "\n",
    "Dividi-las em interfaces menores permite que uma classe não seja sempre obrigada a implementar tudo junto. Por exemplo, eu poderia ter um DataSource cujos dados sejam na forma de árvore, em vez de tabulares.\n",
    "\n",
    "Veja abaixo como a classe `DataSetComponent` implementa as duas interfaces:"
   ]
  },
  {
   "cell_type": "code",
   "execution_count": 2,
   "metadata": {},
   "outputs": [
    {
     "data": {
      "text/plain": [
       "com.twosigma.beaker.javash.bkr54c231c9.IDataSetProperties"
      ]
     },
     "execution_count": 2,
     "metadata": {},
     "output_type": "execute_result"
    }
   ],
   "source": [
    "public interface IDataSetProperties {\n",
    "  public String getDataSource();\n",
    "  public void setDataSource(String dataSource);\n",
    "}"
   ]
  },
  {
   "cell_type": "code",
   "execution_count": 3,
   "metadata": {},
   "outputs": [
    {
     "data": {
      "text/plain": [
       "com.twosigma.beaker.javash.bkr54c231c9.ITableProducer"
      ]
     },
     "execution_count": 3,
     "metadata": {},
     "output_type": "execute_result"
    }
   ],
   "source": [
    "public interface ITableProducer {\n",
    "  String[] requestAttributes();\n",
    "  String[][] requestInstances();\n",
    "}"
   ]
  },
  {
   "cell_type": "code",
   "execution_count": 4,
   "metadata": {},
   "outputs": [
    {
     "data": {
      "text/plain": [
       "com.twosigma.beaker.javash.bkr54c231c9.DataSetComponent"
      ]
     },
     "execution_count": 4,
     "metadata": {},
     "output_type": "execute_result"
    }
   ],
   "source": [
    "import java.io.BufferedReader;\n",
    "import java.io.FileReader;\n",
    "import java.io.IOException;\n",
    "import java.util.ArrayList;\n",
    "\n",
    "public class DataSetComponent implements IDataSetProperties, ITableProducer {\n",
    "  private String dataSource = null;\n",
    "  private String[] attributes = null;\n",
    "  private String[][] instances = null;\n",
    "  \n",
    "  public DataSetComponent() {\n",
    "    /* nothing */\n",
    "  }\n",
    "\n",
    "  public String getDataSource() {\n",
    "    return dataSource;\n",
    "  }\n",
    "\n",
    "  public void setDataSource(String dataSource) {\n",
    "    this.dataSource = dataSource;\n",
    "    if (dataSource == null) {\n",
    "      attributes = null;\n",
    "      instances = null;\n",
    "    } else\n",
    "      readDS();\n",
    "  }\n",
    "  \n",
    "  public String[] requestAttributes() {\n",
    "    return attributes;\n",
    "  }\n",
    "  \n",
    "  public String[][] requestInstances() {\n",
    "    return instances;\n",
    "  }\n",
    "  \n",
    "  private void readDS() {\n",
    "    ArrayList<String[]> instArray = new ArrayList<String[]>();\n",
    "    try {\n",
    "      BufferedReader file = new BufferedReader(new FileReader(dataSource));\n",
    "        \n",
    "      String line = file.readLine();\n",
    "      if (line != null) {\n",
    "        attributes = line.split(\",\");\n",
    "        line = file.readLine();\n",
    "        while (line != null) {\n",
    "          String[] instLine = line.split(\",\");\n",
    "          instArray.add(instLine);\n",
    "          line = file.readLine();\n",
    "        }\n",
    "        instances = instArray.toArray(new String[0][]);\n",
    "      }\n",
    "        \n",
    "      file.close();\n",
    "    } catch (IOException erro) {\n",
    "      erro.printStackTrace();\n",
    "    }\n",
    "  }\n",
    "  \n",
    "}"
   ]
  },
  {
   "cell_type": "markdown",
   "metadata": {},
   "source": [
    "## Usando múltiplas interfaces\n",
    "\n",
    "O problema de múltiplas interfaces é na hora de usar, já que você tem que indicar qual a interface usará a cada momento. Veja abaixo como fica o código.\n",
    "\n",
    "Primeiro iniciou-se com a interface `IDataSetProperties`, já que deveria ser configurada a propriedade de fonte de dados. Depois foi necessário mudar a referência para o objeto com a interface `ITableProducer`. Note que foi necessário um cast:\n",
    "~~~java\n",
    "ITableProducer tp = (ITableProducer)ds;\n",
    "~~~"
   ]
  },
  {
   "cell_type": "code",
   "execution_count": 5,
   "metadata": {},
   "outputs": [
    {
     "name": "stdout",
     "output_type": "stream",
     "text": [
      "=== Attributes ===\n",
      "paralysis, yellow_tong, member_loss, chest_pain, trembling_finger, severe_anger, history_bacteria, diagnostic\n",
      "\n",
      "=== Instances ===\n",
      "t, t, f, f, f, f, f, bacterial_infection\n",
      "f, t, f, f, f, f, f, bacterial_infection\n",
      "f, t, f, f, t, f, t, bite_deficit\n",
      "f, t, t, f, t, f, f, bite_deficit\n",
      "f, f, t, t, f, f, f, viral_infection\n",
      "f, f, t, f, f, t, f, fights\n",
      "f, f, f, f, f, t, f, nothing\n",
      "f, f, f, f, t, f, f, bite_deficit\n",
      "f, t, f, t, f, f, f, bacterial_infection\n",
      "f, f, f, t, f, f, f, viral_infection\n",
      "f, t, t, f, f, f, t, bite_deficit\n",
      "t, t, f, f, f, f, f, bacterial_infection\n",
      "f, f, f, t, f, f, t, viral_infection\n",
      "f, f, t, f, f, f, f, fights\n",
      "f, t, f, f, t, f, t, bite_deficit\n",
      "f, t, t, f, t, f, f, bite_deficit\n",
      "f, f, f, t, f, f, f, fights\n",
      "f, t, f, f, f, f, f, bacterial_infection\n",
      "f, f, f, f, t, f, f, bite_deficit\n"
     ]
    },
    {
     "data": {
      "text/plain": [
       "null"
      ]
     },
     "execution_count": 5,
     "metadata": {},
     "output_type": "execute_result"
    }
   ],
   "source": [
    "IDataSetProperties ds = new DataSetComponent();\n",
    "ds.setDataSource(\"../../../db/zombie/zombie-health-spreadsheet-ml-training.csv\");\n",
    "\n",
    "// aqui eh necessario se mudar de interface para se ter acesso aos metodos da tabela\n",
    "ITableProducer tp = (ITableProducer)ds;\n",
    "\n",
    "System.out.println(\"=== Attributes ===\");\n",
    "String attributes[] = tp.requestAttributes();\n",
    "for (int a = 0; a < attributes.length-1; a++)\n",
    "  System.out.print(attributes[a] + \", \");\n",
    "System.out.println(attributes[attributes.length-1]);\n",
    "\n",
    "System.out.println();\n",
    "System.out.println(\"=== Instances ===\");\n",
    "String instances[][] = tp.requestInstances();\n",
    "for (int i = 0; i < instances.length; i++) {\n",
    "  for (int a = 0; a < attributes.length-1; a ++)\n",
    "    System.out.print(instances[i][a] + \", \");\n",
    "  System.out.println(instances[i][attributes.length-1]);\n",
    "}"
   ]
  },
  {
   "cell_type": "markdown",
   "metadata": {},
   "source": [
    "# Herança de Interfaces\n",
    "\n",
    "Interfaces podem ser herdeiras de outras interfaces, ou seja, elas herdam a declaração de métodos da superinterface. Interfaces aceitam herança múltipla, então podemos tornar a solução anterior mais elegante criando uma interface chamada `IDataSet` que junta `IDataSetProperties` e `ITableProducer`, como segue:"
   ]
  },
  {
   "cell_type": "code",
   "execution_count": 6,
   "metadata": {},
   "outputs": [
    {
     "data": {
      "text/plain": [
       "com.twosigma.beaker.javash.bkr54c231c9.IDataSet"
      ]
     },
     "execution_count": 6,
     "metadata": {},
     "output_type": "execute_result"
    }
   ],
   "source": [
    "public interface IDataSet extends IDataSetProperties, ITableProducer {\n",
    "}"
   ]
  },
  {
   "cell_type": "markdown",
   "metadata": {},
   "source": [
    "## Implementando a interface `IDataSet`\n",
    "\n",
    "O componente passa a fazer referência apenas à interface unificada `IDataSet`."
   ]
  },
  {
   "cell_type": "code",
   "execution_count": 7,
   "metadata": {},
   "outputs": [
    {
     "data": {
      "text/plain": [
       "com.twosigma.beaker.javash.bkr54c231c9.DataSetComponentII"
      ]
     },
     "execution_count": 7,
     "metadata": {},
     "output_type": "execute_result"
    }
   ],
   "source": [
    "import java.io.BufferedReader;\n",
    "import java.io.FileReader;\n",
    "import java.io.IOException;\n",
    "import java.util.ArrayList;\n",
    "\n",
    "public class DataSetComponentII implements IDataSet {\n",
    "  private String dataSource = null;\n",
    "  private String[] attributes = null;\n",
    "  private String[][] instances = null;\n",
    "  \n",
    "  public DataSetComponentII() {\n",
    "    /* nothing */\n",
    "  }\n",
    "\n",
    "  public String getDataSource() {\n",
    "    return dataSource;\n",
    "  }\n",
    "\n",
    "  public void setDataSource(String dataSource) {\n",
    "    this.dataSource = dataSource;\n",
    "    if (dataSource == null) {\n",
    "      attributes = null;\n",
    "      instances = null;\n",
    "    } else\n",
    "      readDS();\n",
    "  }\n",
    "  \n",
    "  public String[] requestAttributes() {\n",
    "    return attributes;\n",
    "  }\n",
    "  \n",
    "  public String[][] requestInstances() {\n",
    "    return instances;\n",
    "  }\n",
    "  \n",
    "  private void readDS() {\n",
    "    ArrayList<String[]> instArray = new ArrayList<String[]>();\n",
    "    try {\n",
    "      BufferedReader file = new BufferedReader(new FileReader(dataSource));\n",
    "        \n",
    "      String line = file.readLine();\n",
    "      if (line != null) {\n",
    "        attributes = line.split(\",\");\n",
    "        line = file.readLine();\n",
    "        while (line != null) {\n",
    "          String[] instLine = line.split(\",\");\n",
    "          instArray.add(instLine);\n",
    "          line = file.readLine();\n",
    "        }\n",
    "        instances = instArray.toArray(new String[0][]);\n",
    "      }\n",
    "        \n",
    "      file.close();\n",
    "    } catch (IOException erro) {\n",
    "      erro.printStackTrace();\n",
    "    }\n",
    "  }\n",
    "  \n",
    "}"
   ]
  },
  {
   "cell_type": "markdown",
   "metadata": {},
   "source": [
    "## Usando a interface `IDataSet`\n",
    "\n",
    "Como você verá a seguir, torna-se possível se resolver tudo com uma única interface:"
   ]
  },
  {
   "cell_type": "code",
   "execution_count": 8,
   "metadata": {},
   "outputs": [
    {
     "name": "stdout",
     "output_type": "stream",
     "text": [
      "=== Attributes ===\n",
      "paralysis, yellow_tong, member_loss, chest_pain, trembling_finger, severe_anger, history_bacteria, diagnostic\n",
      "\n",
      "=== Instances ===\n",
      "t, t, f, f, f, f, f, bacterial_infection\n",
      "f, t, f, f, f, f, f, bacterial_infection\n",
      "f, t, f, f, t, f, t, bite_deficit\n",
      "f, t, t, f, t, f, f, bite_deficit\n",
      "f, f, t, t, f, f, f, viral_infection\n",
      "f, f, t, f, f, t, f, fights\n",
      "f, f, f, f, f, t, f, nothing\n",
      "f, f, f, f, t, f, f, bite_deficit\n",
      "f, t, f, t, f, f, f, bacterial_infection\n",
      "f, f, f, t, f, f, f, viral_infection\n",
      "f, t, t, f, f, f, t, bite_deficit\n",
      "t, t, f, f, f, f, f, bacterial_infection\n",
      "f, f, f, t, f, f, t, viral_infection\n",
      "f, f, t, f, f, f, f, fights\n",
      "f, t, f, f, t, f, t, bite_deficit\n",
      "f, t, t, f, t, f, f, bite_deficit\n",
      "f, f, f, t, f, f, f, fights\n",
      "f, t, f, f, f, f, f, bacterial_infection\n",
      "f, f, f, f, t, f, f, bite_deficit\n"
     ]
    },
    {
     "data": {
      "text/plain": [
       "null"
      ]
     },
     "execution_count": 8,
     "metadata": {},
     "output_type": "execute_result"
    }
   ],
   "source": [
    "IDataSet ds = new DataSetComponentII();\n",
    "ds.setDataSource(\"../../../db/zombie/zombie-health-spreadsheet-ml-training.csv\");\n",
    "\n",
    "System.out.println(\"=== Attributes ===\");\n",
    "String attributes[] = ds.requestAttributes();\n",
    "for (int a = 0; a < attributes.length-1; a++)\n",
    "  System.out.print(attributes[a] + \", \");\n",
    "System.out.println(attributes[attributes.length-1]);\n",
    "\n",
    "System.out.println();\n",
    "System.out.println(\"=== Instances ===\");\n",
    "String instances[][] = ds.requestInstances();\n",
    "for (int i = 0; i < instances.length; i++) {\n",
    "  for (int a = 0; a < attributes.length-1; a ++)\n",
    "    System.out.print(instances[i][a] + \", \");\n",
    "  System.out.println(instances[i][attributes.length-1]);\n",
    "}"
   ]
  }
 ],
 "metadata": {
  "kernelspec": {
   "display_name": "Java",
   "language": "java",
   "name": "java"
  },
  "language_info": {
   "codemirror_mode": "text/x-java",
   "file_extension": ".java",
   "mimetype": "",
   "name": "Java",
   "nbconverter_exporter": "",
   "version": "1.8.0_212"
  }
 },
 "nbformat": 4,
 "nbformat_minor": 2
}
